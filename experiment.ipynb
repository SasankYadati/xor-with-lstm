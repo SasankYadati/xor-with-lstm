{
 "metadata": {
  "language_info": {
   "codemirror_mode": {
    "name": "ipython",
    "version": 3
   },
   "file_extension": ".py",
   "mimetype": "text/x-python",
   "name": "python",
   "nbconvert_exporter": "python",
   "pygments_lexer": "ipython3",
   "version": "3.8.5-final"
  },
  "orig_nbformat": 2,
  "kernelspec": {
   "name": "python3",
   "display_name": "Python 3.8.5 64-bit ('pytorchenv': conda)",
   "metadata": {
    "interpreter": {
     "hash": "0849e2ed747a66283f8e3fbbcdd7e826777ba76101ee4297d988ede2210a36e4"
    }
   }
  }
 },
 "nbformat": 4,
 "nbformat_minor": 2,
 "cells": [
  {
   "cell_type": "code",
   "execution_count": null,
   "metadata": {},
   "outputs": [],
   "source": [
    "from Params import DataParams, NetworkParams, TrainingParams, Params\n",
    "from data_helper import XORDataset, getVariableLengths\n",
    "from Model import Model, train_model\n",
    "import torch\n",
    "import numpy as np"
   ]
  },
  {
   "cell_type": "code",
   "execution_count": null,
   "metadata": {},
   "outputs": [],
   "source": [
    "def generateDataParams(max_seq_len, min_seq_len=5):\n",
    "    def num_samples_fn(seq_len):\n",
    "        max_seqs = 100000\n",
    "        num_seqs = seq_len ** 2\n",
    "        return min(num_seqs, max_seqs)\n",
    "    data_params_list = []\n",
    "    for seq_len in range(min_seq_len, max_seq_len+1):\n",
    "        num_samples = num_samples_fn(seq_len)\n",
    "        data_params_list.append(DataParams(num_samples, seq_len, False))\n",
    "        data_params_list.append(DataParams(num_samples, seq_len, True))\n",
    "    return data_params_list"
   ]
  },
  {
   "cell_type": "code",
   "execution_count": null,
   "metadata": {},
   "outputs": [],
   "source": [
    "max_seq_len = 50\n",
    "data_params_list = generateDataParams(max_seq_len)\n",
    "network_params = NetworkParams()\n",
    "training_params = TrainingParams()\n",
    "num_runs_per_model = 50"
   ]
  },
  {
   "cell_type": "code",
   "execution_count": null,
   "metadata": {
    "tags": [
     "outputPrepend"
    ]
   },
   "outputs": [],
   "source": [
    "num_steps_varying_seq = dict()\n",
    "num_steps_fixed_seq = dict()\n",
    "for data_params in data_params_list:\n",
    "    params = Params(data_params, network_params, training_params)\n",
    "    num_steps_avg = 0\n",
    "    for num_run in range(num_runs_per_model):\n",
    "        model = Model(network_params)\n",
    "        seed = data_params.max_seq_len * num_run\n",
    "        torch.manual_seed(seed)\n",
    "        np.random.seed(seed)\n",
    "        num_steps = train_model(model, params)\n",
    "        num_steps_avg += num_steps\n",
    "    num_steps_avg /= num_runs_per_model\n",
    "    print(f\"Average number of steps:{num_steps_avg}\")\n",
    "    if data_params.is_seq_len_varying:\n",
    "        num_steps_varying_seq[data_params.max_seq_len] = num_steps_avg\n",
    "    else:\n",
    "        num_steps_fixed_seq[data_params.max_seq_len] = num_steps_avg"
   ]
  },
  {
   "cell_type": "code",
   "execution_count": null,
   "metadata": {},
   "outputs": [],
   "source": []
  }
 ]
}